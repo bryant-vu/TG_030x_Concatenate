{
 "cells": [
  {
   "cell_type": "code",
   "execution_count": 26,
   "metadata": {
    "collapsed": true
   },
   "outputs": [],
   "source": [
    "import pandas as pd\n",
    "import xlsxwriter"
   ]
  },
  {
   "cell_type": "code",
   "execution_count": 27,
   "metadata": {
    "collapsed": true
   },
   "outputs": [],
   "source": [
    "dfs = {}"
   ]
  },
  {
   "cell_type": "code",
   "execution_count": 28,
   "metadata": {
    "collapsed": false
   },
   "outputs": [],
   "source": [
    "csv_files = ['TG0301.csv','TG0302.csv','TG0303.csv','TG0304.csv','TG0305.csv']\n",
    "\n",
    "for file in csv_files:\n",
    "    if bool(dfs) == False:\n",
    "        try:\n",
    "            df = pd.read_csv(file)\n",
    "            name = str(file)\n",
    "            dfs[name] = df\n",
    "        except: \n",
    "            pass\n",
    "    else:\n",
    "        try:\n",
    "            df = pd.read_csv(file,usecols=[5,6,7,8,9,10,11,12])\n",
    "            name = str(file)\n",
    "            dfs[name] = df\n",
    "        except:\n",
    "            pass"
   ]
  },
  {
   "cell_type": "code",
   "execution_count": 33,
   "metadata": {
    "collapsed": true
   },
   "outputs": [],
   "source": [
    "TG_030x = pd.concat(dfs,axis=1,ignore_index=True)"
   ]
  },
  {
   "cell_type": "code",
   "execution_count": 34,
   "metadata": {
    "collapsed": false
   },
   "outputs": [],
   "source": [
    "TG_030x.to_csv('TG_030x.csv',index=False)"
   ]
  }
 ],
 "metadata": {
  "anaconda-cloud": {},
  "kernelspec": {
   "display_name": "Python [conda root]",
   "language": "python",
   "name": "conda-root-py"
  },
  "language_info": {
   "codemirror_mode": {
    "name": "ipython",
    "version": 3
   },
   "file_extension": ".py",
   "mimetype": "text/x-python",
   "name": "python",
   "nbconvert_exporter": "python",
   "pygments_lexer": "ipython3",
   "version": "3.5.2"
  }
 },
 "nbformat": 4,
 "nbformat_minor": 1
}
